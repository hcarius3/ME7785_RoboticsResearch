{
 "cells": [
  {
   "cell_type": "markdown",
   "metadata": {},
   "source": [
    "ME 7785: Introduction to Robotics Research\n",
    "# Lab 1\n",
    "Hendrik Carius and Daniel Terrell"
   ]
  },
  {
   "cell_type": "markdown",
   "metadata": {},
   "source": [
    "## Part 1b: ROS Related Questions\n",
    "\n",
    "- **What is a ROS_DOMAIN_ID?**  \n",
    "  A variable to define on what domain the ROS communication should happen. It allows multiple systems to communicate simultaneously on the same network without interfering with each other. Only systems on the same domain ID can communicate with each other.\n",
    "\n",
    "- **What is a node?**  \n",
    "  A basic building block in ROS. It is typically where one computation task happens. Nodes are capable of communicating with different nodes by publishing and subscribing to a topic.\n",
    "\n",
    "- **What is a topic?**  \n",
    "  A connection point between publishers and subscribers through which data streams. Over a connecting topic, publishers and subscribers know how to contact each other. Publishers send data to a topic, and by subscribing to the same topic, the subscriber receives that same data.\n",
    "\n",
    "- **What is a message?**  \n",
    "  All data has to be sent as messages through the topics. Messages have a predefined structure that can consist of multiple fields with different data types.\n",
    "\n",
    "- **What is a subscriber?**  \n",
    "  A \"consumer of data\". It allows the node to listen to a topic. It receives all messages that get published through that topic."
   ]
  },
  {
   "cell_type": "code",
   "execution_count": null,
   "metadata": {
    "slideshow": {
     "slide_type": "notes"
    }
   },
   "outputs": [],
   "source": [
    "class SubscriberNode(Node):\n",
    "    def __init__(self):\n",
    "        super().__init__('subscriber_node')\n",
    "        self.subscription = self.create_subscription(\n",
    "            UInt64,\n",
    "            'amazing_int',\n",
    "            magic_fun,\n",
    "            123 # queue size\n",
    "        )"
   ]
  },
  {
   "cell_type": "markdown",
   "metadata": {
    "slideshow": {
     "slide_type": "notes"
    }
   },
   "source": [
    "- **What is a publisher?**  \n",
    "  A \" producer of data\" which sends messages to a named topic."
   ]
  },
  {
   "cell_type": "code",
   "execution_count": null,
   "metadata": {},
   "outputs": [],
   "source": [
    "class PublisherNode(Node):\n",
    "    def __init__(self):\n",
    "        super().__init__('publisher_node')\n",
    "        self.publisher = self.create_publisher(\n",
    "            Bool,\n",
    "            'amazing_bool',\n",
    "            123 # queue size\n",
    "        )"
   ]
  },
  {
   "cell_type": "markdown",
   "metadata": {},
   "source": [
    "- **Can a node have multiple subscribers? Can a node have multiple publishers?**  \n",
    "  Both yes. A node can subscripe to multiple topics and therefore have multiple subscribers as well as publish to multiple topics simultaneously."
   ]
  }
 ],
 "metadata": {
  "kernelspec": {
   "display_name": "Python 3",
   "language": "python",
   "name": "python3"
  },
  "language_info": {
   "codemirror_mode": {
    "name": "ipython",
    "version": 3
   },
   "file_extension": ".py",
   "mimetype": "text/x-python",
   "name": "python",
   "nbconvert_exporter": "python",
   "pygments_lexer": "ipython3",
   "version": "3.11.9"
  }
 },
 "nbformat": 4,
 "nbformat_minor": 2
}
